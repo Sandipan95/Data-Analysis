{
 "cells": [
  {
   "cell_type": "code",
   "execution_count": 1,
   "id": "a287533e",
   "metadata": {},
   "outputs": [],
   "source": [
    "import pandas as pd"
   ]
  },
  {
   "cell_type": "code",
   "execution_count": 2,
   "id": "4a2cc475",
   "metadata": {},
   "outputs": [
    {
     "data": {
      "text/html": [
       "<div>\n",
       "<style scoped>\n",
       "    .dataframe tbody tr th:only-of-type {\n",
       "        vertical-align: middle;\n",
       "    }\n",
       "\n",
       "    .dataframe tbody tr th {\n",
       "        vertical-align: top;\n",
       "    }\n",
       "\n",
       "    .dataframe thead th {\n",
       "        text-align: right;\n",
       "    }\n",
       "</style>\n",
       "<table border=\"1\" class=\"dataframe\">\n",
       "  <thead>\n",
       "    <tr style=\"text-align: right;\">\n",
       "      <th></th>\n",
       "      <th>Unnamed: 0</th>\n",
       "      <th>Age</th>\n",
       "      <th>Sex</th>\n",
       "      <th>Job</th>\n",
       "      <th>Housing</th>\n",
       "      <th>Saving accounts</th>\n",
       "      <th>Checking account</th>\n",
       "      <th>Credit amount</th>\n",
       "      <th>Duration</th>\n",
       "      <th>Purpose</th>\n",
       "    </tr>\n",
       "  </thead>\n",
       "  <tbody>\n",
       "    <tr>\n",
       "      <th>0</th>\n",
       "      <td>0</td>\n",
       "      <td>67</td>\n",
       "      <td>male</td>\n",
       "      <td>2</td>\n",
       "      <td>own</td>\n",
       "      <td>NaN</td>\n",
       "      <td>little</td>\n",
       "      <td>1169</td>\n",
       "      <td>6</td>\n",
       "      <td>radio/TV</td>\n",
       "    </tr>\n",
       "    <tr>\n",
       "      <th>1</th>\n",
       "      <td>1</td>\n",
       "      <td>22</td>\n",
       "      <td>female</td>\n",
       "      <td>2</td>\n",
       "      <td>own</td>\n",
       "      <td>little</td>\n",
       "      <td>moderate</td>\n",
       "      <td>5951</td>\n",
       "      <td>48</td>\n",
       "      <td>radio/TV</td>\n",
       "    </tr>\n",
       "    <tr>\n",
       "      <th>2</th>\n",
       "      <td>2</td>\n",
       "      <td>49</td>\n",
       "      <td>male</td>\n",
       "      <td>1</td>\n",
       "      <td>own</td>\n",
       "      <td>little</td>\n",
       "      <td>NaN</td>\n",
       "      <td>2096</td>\n",
       "      <td>12</td>\n",
       "      <td>education</td>\n",
       "    </tr>\n",
       "    <tr>\n",
       "      <th>3</th>\n",
       "      <td>3</td>\n",
       "      <td>45</td>\n",
       "      <td>male</td>\n",
       "      <td>2</td>\n",
       "      <td>free</td>\n",
       "      <td>little</td>\n",
       "      <td>little</td>\n",
       "      <td>7882</td>\n",
       "      <td>42</td>\n",
       "      <td>furniture/equipment</td>\n",
       "    </tr>\n",
       "    <tr>\n",
       "      <th>4</th>\n",
       "      <td>4</td>\n",
       "      <td>53</td>\n",
       "      <td>male</td>\n",
       "      <td>2</td>\n",
       "      <td>free</td>\n",
       "      <td>little</td>\n",
       "      <td>little</td>\n",
       "      <td>4870</td>\n",
       "      <td>24</td>\n",
       "      <td>car</td>\n",
       "    </tr>\n",
       "    <tr>\n",
       "      <th>5</th>\n",
       "      <td>5</td>\n",
       "      <td>35</td>\n",
       "      <td>male</td>\n",
       "      <td>1</td>\n",
       "      <td>free</td>\n",
       "      <td>NaN</td>\n",
       "      <td>NaN</td>\n",
       "      <td>9055</td>\n",
       "      <td>36</td>\n",
       "      <td>education</td>\n",
       "    </tr>\n",
       "    <tr>\n",
       "      <th>6</th>\n",
       "      <td>6</td>\n",
       "      <td>53</td>\n",
       "      <td>male</td>\n",
       "      <td>2</td>\n",
       "      <td>own</td>\n",
       "      <td>quite rich</td>\n",
       "      <td>NaN</td>\n",
       "      <td>2835</td>\n",
       "      <td>24</td>\n",
       "      <td>furniture/equipment</td>\n",
       "    </tr>\n",
       "    <tr>\n",
       "      <th>7</th>\n",
       "      <td>7</td>\n",
       "      <td>35</td>\n",
       "      <td>male</td>\n",
       "      <td>3</td>\n",
       "      <td>rent</td>\n",
       "      <td>little</td>\n",
       "      <td>moderate</td>\n",
       "      <td>6948</td>\n",
       "      <td>36</td>\n",
       "      <td>car</td>\n",
       "    </tr>\n",
       "    <tr>\n",
       "      <th>8</th>\n",
       "      <td>8</td>\n",
       "      <td>61</td>\n",
       "      <td>male</td>\n",
       "      <td>1</td>\n",
       "      <td>own</td>\n",
       "      <td>rich</td>\n",
       "      <td>NaN</td>\n",
       "      <td>3059</td>\n",
       "      <td>12</td>\n",
       "      <td>radio/TV</td>\n",
       "    </tr>\n",
       "    <tr>\n",
       "      <th>9</th>\n",
       "      <td>9</td>\n",
       "      <td>28</td>\n",
       "      <td>male</td>\n",
       "      <td>3</td>\n",
       "      <td>own</td>\n",
       "      <td>little</td>\n",
       "      <td>moderate</td>\n",
       "      <td>5234</td>\n",
       "      <td>30</td>\n",
       "      <td>car</td>\n",
       "    </tr>\n",
       "    <tr>\n",
       "      <th>10</th>\n",
       "      <td>10</td>\n",
       "      <td>25</td>\n",
       "      <td>female</td>\n",
       "      <td>2</td>\n",
       "      <td>rent</td>\n",
       "      <td>little</td>\n",
       "      <td>moderate</td>\n",
       "      <td>1295</td>\n",
       "      <td>12</td>\n",
       "      <td>car</td>\n",
       "    </tr>\n",
       "    <tr>\n",
       "      <th>11</th>\n",
       "      <td>11</td>\n",
       "      <td>24</td>\n",
       "      <td>female</td>\n",
       "      <td>2</td>\n",
       "      <td>rent</td>\n",
       "      <td>little</td>\n",
       "      <td>little</td>\n",
       "      <td>4308</td>\n",
       "      <td>48</td>\n",
       "      <td>business</td>\n",
       "    </tr>\n",
       "    <tr>\n",
       "      <th>12</th>\n",
       "      <td>12</td>\n",
       "      <td>22</td>\n",
       "      <td>female</td>\n",
       "      <td>2</td>\n",
       "      <td>own</td>\n",
       "      <td>little</td>\n",
       "      <td>moderate</td>\n",
       "      <td>1567</td>\n",
       "      <td>12</td>\n",
       "      <td>radio/TV</td>\n",
       "    </tr>\n",
       "    <tr>\n",
       "      <th>13</th>\n",
       "      <td>13</td>\n",
       "      <td>60</td>\n",
       "      <td>male</td>\n",
       "      <td>1</td>\n",
       "      <td>own</td>\n",
       "      <td>little</td>\n",
       "      <td>little</td>\n",
       "      <td>1199</td>\n",
       "      <td>24</td>\n",
       "      <td>car</td>\n",
       "    </tr>\n",
       "    <tr>\n",
       "      <th>14</th>\n",
       "      <td>14</td>\n",
       "      <td>28</td>\n",
       "      <td>female</td>\n",
       "      <td>2</td>\n",
       "      <td>rent</td>\n",
       "      <td>little</td>\n",
       "      <td>little</td>\n",
       "      <td>1403</td>\n",
       "      <td>15</td>\n",
       "      <td>car</td>\n",
       "    </tr>\n",
       "  </tbody>\n",
       "</table>\n",
       "</div>"
      ],
      "text/plain": [
       "    Unnamed: 0  Age     Sex  Job Housing Saving accounts Checking account  \\\n",
       "0            0   67    male    2     own             NaN           little   \n",
       "1            1   22  female    2     own          little         moderate   \n",
       "2            2   49    male    1     own          little              NaN   \n",
       "3            3   45    male    2    free          little           little   \n",
       "4            4   53    male    2    free          little           little   \n",
       "5            5   35    male    1    free             NaN              NaN   \n",
       "6            6   53    male    2     own      quite rich              NaN   \n",
       "7            7   35    male    3    rent          little         moderate   \n",
       "8            8   61    male    1     own            rich              NaN   \n",
       "9            9   28    male    3     own          little         moderate   \n",
       "10          10   25  female    2    rent          little         moderate   \n",
       "11          11   24  female    2    rent          little           little   \n",
       "12          12   22  female    2     own          little         moderate   \n",
       "13          13   60    male    1     own          little           little   \n",
       "14          14   28  female    2    rent          little           little   \n",
       "\n",
       "    Credit amount  Duration              Purpose  \n",
       "0            1169         6             radio/TV  \n",
       "1            5951        48             radio/TV  \n",
       "2            2096        12            education  \n",
       "3            7882        42  furniture/equipment  \n",
       "4            4870        24                  car  \n",
       "5            9055        36            education  \n",
       "6            2835        24  furniture/equipment  \n",
       "7            6948        36                  car  \n",
       "8            3059        12             radio/TV  \n",
       "9            5234        30                  car  \n",
       "10           1295        12                  car  \n",
       "11           4308        48             business  \n",
       "12           1567        12             radio/TV  \n",
       "13           1199        24                  car  \n",
       "14           1403        15                  car  "
      ]
     },
     "execution_count": 2,
     "metadata": {},
     "output_type": "execute_result"
    }
   ],
   "source": [
    "data=pd.read_csv(\"german_credit_data.csv\")\n",
    "data.head(15)"
   ]
  },
  {
   "cell_type": "code",
   "execution_count": 3,
   "id": "5d46ffb3",
   "metadata": {
    "scrolled": true
   },
   "outputs": [
    {
     "data": {
      "text/html": [
       "<div>\n",
       "<style scoped>\n",
       "    .dataframe tbody tr th:only-of-type {\n",
       "        vertical-align: middle;\n",
       "    }\n",
       "\n",
       "    .dataframe tbody tr th {\n",
       "        vertical-align: top;\n",
       "    }\n",
       "\n",
       "    .dataframe thead th {\n",
       "        text-align: right;\n",
       "    }\n",
       "</style>\n",
       "<table border=\"1\" class=\"dataframe\">\n",
       "  <thead>\n",
       "    <tr style=\"text-align: right;\">\n",
       "      <th></th>\n",
       "      <th>Age</th>\n",
       "      <th>Sex</th>\n",
       "      <th>Job</th>\n",
       "      <th>Housing</th>\n",
       "      <th>Saving accounts</th>\n",
       "      <th>Checking account</th>\n",
       "      <th>Credit amount</th>\n",
       "      <th>Duration</th>\n",
       "      <th>Purpose</th>\n",
       "    </tr>\n",
       "  </thead>\n",
       "  <tbody>\n",
       "    <tr>\n",
       "      <th>0</th>\n",
       "      <td>67</td>\n",
       "      <td>male</td>\n",
       "      <td>2</td>\n",
       "      <td>own</td>\n",
       "      <td>NaN</td>\n",
       "      <td>little</td>\n",
       "      <td>1169</td>\n",
       "      <td>6</td>\n",
       "      <td>radio/TV</td>\n",
       "    </tr>\n",
       "    <tr>\n",
       "      <th>1</th>\n",
       "      <td>22</td>\n",
       "      <td>female</td>\n",
       "      <td>2</td>\n",
       "      <td>own</td>\n",
       "      <td>little</td>\n",
       "      <td>moderate</td>\n",
       "      <td>5951</td>\n",
       "      <td>48</td>\n",
       "      <td>radio/TV</td>\n",
       "    </tr>\n",
       "    <tr>\n",
       "      <th>2</th>\n",
       "      <td>49</td>\n",
       "      <td>male</td>\n",
       "      <td>1</td>\n",
       "      <td>own</td>\n",
       "      <td>little</td>\n",
       "      <td>NaN</td>\n",
       "      <td>2096</td>\n",
       "      <td>12</td>\n",
       "      <td>education</td>\n",
       "    </tr>\n",
       "    <tr>\n",
       "      <th>3</th>\n",
       "      <td>45</td>\n",
       "      <td>male</td>\n",
       "      <td>2</td>\n",
       "      <td>free</td>\n",
       "      <td>little</td>\n",
       "      <td>little</td>\n",
       "      <td>7882</td>\n",
       "      <td>42</td>\n",
       "      <td>furniture/equipment</td>\n",
       "    </tr>\n",
       "    <tr>\n",
       "      <th>4</th>\n",
       "      <td>53</td>\n",
       "      <td>male</td>\n",
       "      <td>2</td>\n",
       "      <td>free</td>\n",
       "      <td>little</td>\n",
       "      <td>little</td>\n",
       "      <td>4870</td>\n",
       "      <td>24</td>\n",
       "      <td>car</td>\n",
       "    </tr>\n",
       "    <tr>\n",
       "      <th>...</th>\n",
       "      <td>...</td>\n",
       "      <td>...</td>\n",
       "      <td>...</td>\n",
       "      <td>...</td>\n",
       "      <td>...</td>\n",
       "      <td>...</td>\n",
       "      <td>...</td>\n",
       "      <td>...</td>\n",
       "      <td>...</td>\n",
       "    </tr>\n",
       "    <tr>\n",
       "      <th>95</th>\n",
       "      <td>58</td>\n",
       "      <td>male</td>\n",
       "      <td>2</td>\n",
       "      <td>rent</td>\n",
       "      <td>little</td>\n",
       "      <td>moderate</td>\n",
       "      <td>15945</td>\n",
       "      <td>54</td>\n",
       "      <td>business</td>\n",
       "    </tr>\n",
       "    <tr>\n",
       "      <th>96</th>\n",
       "      <td>61</td>\n",
       "      <td>female</td>\n",
       "      <td>2</td>\n",
       "      <td>own</td>\n",
       "      <td>NaN</td>\n",
       "      <td>NaN</td>\n",
       "      <td>2012</td>\n",
       "      <td>12</td>\n",
       "      <td>education</td>\n",
       "    </tr>\n",
       "    <tr>\n",
       "      <th>97</th>\n",
       "      <td>34</td>\n",
       "      <td>male</td>\n",
       "      <td>2</td>\n",
       "      <td>own</td>\n",
       "      <td>moderate</td>\n",
       "      <td>moderate</td>\n",
       "      <td>2622</td>\n",
       "      <td>18</td>\n",
       "      <td>business</td>\n",
       "    </tr>\n",
       "    <tr>\n",
       "      <th>98</th>\n",
       "      <td>36</td>\n",
       "      <td>male</td>\n",
       "      <td>2</td>\n",
       "      <td>own</td>\n",
       "      <td>little</td>\n",
       "      <td>moderate</td>\n",
       "      <td>2337</td>\n",
       "      <td>36</td>\n",
       "      <td>radio/TV</td>\n",
       "    </tr>\n",
       "    <tr>\n",
       "      <th>99</th>\n",
       "      <td>36</td>\n",
       "      <td>male</td>\n",
       "      <td>3</td>\n",
       "      <td>rent</td>\n",
       "      <td>NaN</td>\n",
       "      <td>moderate</td>\n",
       "      <td>7057</td>\n",
       "      <td>20</td>\n",
       "      <td>car</td>\n",
       "    </tr>\n",
       "  </tbody>\n",
       "</table>\n",
       "<p>100 rows × 9 columns</p>\n",
       "</div>"
      ],
      "text/plain": [
       "    Age     Sex  Job Housing Saving accounts Checking account  Credit amount  \\\n",
       "0    67    male    2     own             NaN           little           1169   \n",
       "1    22  female    2     own          little         moderate           5951   \n",
       "2    49    male    1     own          little              NaN           2096   \n",
       "3    45    male    2    free          little           little           7882   \n",
       "4    53    male    2    free          little           little           4870   \n",
       "..  ...     ...  ...     ...             ...              ...            ...   \n",
       "95   58    male    2    rent          little         moderate          15945   \n",
       "96   61  female    2     own             NaN              NaN           2012   \n",
       "97   34    male    2     own        moderate         moderate           2622   \n",
       "98   36    male    2     own          little         moderate           2337   \n",
       "99   36    male    3    rent             NaN         moderate           7057   \n",
       "\n",
       "    Duration              Purpose  \n",
       "0          6             radio/TV  \n",
       "1         48             radio/TV  \n",
       "2         12            education  \n",
       "3         42  furniture/equipment  \n",
       "4         24                  car  \n",
       "..       ...                  ...  \n",
       "95        54             business  \n",
       "96        12            education  \n",
       "97        18             business  \n",
       "98        36             radio/TV  \n",
       "99        20                  car  \n",
       "\n",
       "[100 rows x 9 columns]"
      ]
     },
     "execution_count": 3,
     "metadata": {},
     "output_type": "execute_result"
    }
   ],
   "source": [
    "data=data.drop(columns= \"Unnamed: 0\")\n",
    "data.head(100)"
   ]
  },
  {
   "cell_type": "code",
   "execution_count": 4,
   "id": "09035bc1",
   "metadata": {},
   "outputs": [
    {
     "data": {
      "text/html": [
       "<div>\n",
       "<style scoped>\n",
       "    .dataframe tbody tr th:only-of-type {\n",
       "        vertical-align: middle;\n",
       "    }\n",
       "\n",
       "    .dataframe tbody tr th {\n",
       "        vertical-align: top;\n",
       "    }\n",
       "\n",
       "    .dataframe thead th {\n",
       "        text-align: right;\n",
       "    }\n",
       "</style>\n",
       "<table border=\"1\" class=\"dataframe\">\n",
       "  <thead>\n",
       "    <tr style=\"text-align: right;\">\n",
       "      <th></th>\n",
       "      <th>Age</th>\n",
       "      <th>Sex</th>\n",
       "      <th>Job</th>\n",
       "      <th>Housing</th>\n",
       "      <th>Saving accounts</th>\n",
       "      <th>Checking account</th>\n",
       "      <th>Credit amount</th>\n",
       "      <th>Duration</th>\n",
       "      <th>Purpose</th>\n",
       "    </tr>\n",
       "  </thead>\n",
       "  <tbody>\n",
       "    <tr>\n",
       "      <th>990</th>\n",
       "      <td>37</td>\n",
       "      <td>male</td>\n",
       "      <td>1</td>\n",
       "      <td>own</td>\n",
       "      <td>NaN</td>\n",
       "      <td>NaN</td>\n",
       "      <td>3565</td>\n",
       "      <td>12</td>\n",
       "      <td>education</td>\n",
       "    </tr>\n",
       "    <tr>\n",
       "      <th>991</th>\n",
       "      <td>34</td>\n",
       "      <td>male</td>\n",
       "      <td>1</td>\n",
       "      <td>own</td>\n",
       "      <td>moderate</td>\n",
       "      <td>NaN</td>\n",
       "      <td>1569</td>\n",
       "      <td>15</td>\n",
       "      <td>radio/TV</td>\n",
       "    </tr>\n",
       "    <tr>\n",
       "      <th>992</th>\n",
       "      <td>23</td>\n",
       "      <td>male</td>\n",
       "      <td>1</td>\n",
       "      <td>rent</td>\n",
       "      <td>NaN</td>\n",
       "      <td>little</td>\n",
       "      <td>1936</td>\n",
       "      <td>18</td>\n",
       "      <td>radio/TV</td>\n",
       "    </tr>\n",
       "    <tr>\n",
       "      <th>993</th>\n",
       "      <td>30</td>\n",
       "      <td>male</td>\n",
       "      <td>3</td>\n",
       "      <td>own</td>\n",
       "      <td>little</td>\n",
       "      <td>little</td>\n",
       "      <td>3959</td>\n",
       "      <td>36</td>\n",
       "      <td>furniture/equipment</td>\n",
       "    </tr>\n",
       "    <tr>\n",
       "      <th>994</th>\n",
       "      <td>50</td>\n",
       "      <td>male</td>\n",
       "      <td>2</td>\n",
       "      <td>own</td>\n",
       "      <td>NaN</td>\n",
       "      <td>NaN</td>\n",
       "      <td>2390</td>\n",
       "      <td>12</td>\n",
       "      <td>car</td>\n",
       "    </tr>\n",
       "    <tr>\n",
       "      <th>995</th>\n",
       "      <td>31</td>\n",
       "      <td>female</td>\n",
       "      <td>1</td>\n",
       "      <td>own</td>\n",
       "      <td>little</td>\n",
       "      <td>NaN</td>\n",
       "      <td>1736</td>\n",
       "      <td>12</td>\n",
       "      <td>furniture/equipment</td>\n",
       "    </tr>\n",
       "    <tr>\n",
       "      <th>996</th>\n",
       "      <td>40</td>\n",
       "      <td>male</td>\n",
       "      <td>3</td>\n",
       "      <td>own</td>\n",
       "      <td>little</td>\n",
       "      <td>little</td>\n",
       "      <td>3857</td>\n",
       "      <td>30</td>\n",
       "      <td>car</td>\n",
       "    </tr>\n",
       "    <tr>\n",
       "      <th>997</th>\n",
       "      <td>38</td>\n",
       "      <td>male</td>\n",
       "      <td>2</td>\n",
       "      <td>own</td>\n",
       "      <td>little</td>\n",
       "      <td>NaN</td>\n",
       "      <td>804</td>\n",
       "      <td>12</td>\n",
       "      <td>radio/TV</td>\n",
       "    </tr>\n",
       "    <tr>\n",
       "      <th>998</th>\n",
       "      <td>23</td>\n",
       "      <td>male</td>\n",
       "      <td>2</td>\n",
       "      <td>free</td>\n",
       "      <td>little</td>\n",
       "      <td>little</td>\n",
       "      <td>1845</td>\n",
       "      <td>45</td>\n",
       "      <td>radio/TV</td>\n",
       "    </tr>\n",
       "    <tr>\n",
       "      <th>999</th>\n",
       "      <td>27</td>\n",
       "      <td>male</td>\n",
       "      <td>2</td>\n",
       "      <td>own</td>\n",
       "      <td>moderate</td>\n",
       "      <td>moderate</td>\n",
       "      <td>4576</td>\n",
       "      <td>45</td>\n",
       "      <td>car</td>\n",
       "    </tr>\n",
       "  </tbody>\n",
       "</table>\n",
       "</div>"
      ],
      "text/plain": [
       "     Age     Sex  Job Housing Saving accounts Checking account  Credit amount  \\\n",
       "990   37    male    1     own             NaN              NaN           3565   \n",
       "991   34    male    1     own        moderate              NaN           1569   \n",
       "992   23    male    1    rent             NaN           little           1936   \n",
       "993   30    male    3     own          little           little           3959   \n",
       "994   50    male    2     own             NaN              NaN           2390   \n",
       "995   31  female    1     own          little              NaN           1736   \n",
       "996   40    male    3     own          little           little           3857   \n",
       "997   38    male    2     own          little              NaN            804   \n",
       "998   23    male    2    free          little           little           1845   \n",
       "999   27    male    2     own        moderate         moderate           4576   \n",
       "\n",
       "     Duration              Purpose  \n",
       "990        12            education  \n",
       "991        15             radio/TV  \n",
       "992        18             radio/TV  \n",
       "993        36  furniture/equipment  \n",
       "994        12                  car  \n",
       "995        12  furniture/equipment  \n",
       "996        30                  car  \n",
       "997        12             radio/TV  \n",
       "998        45             radio/TV  \n",
       "999        45                  car  "
      ]
     },
     "execution_count": 4,
     "metadata": {},
     "output_type": "execute_result"
    }
   ],
   "source": [
    "data.tail(10)"
   ]
  },
  {
   "cell_type": "code",
   "execution_count": 5,
   "id": "100ce8de",
   "metadata": {},
   "outputs": [
    {
     "data": {
      "text/plain": [
       "Index(['Age', 'Sex', 'Job', 'Housing', 'Saving accounts', 'Checking account',\n",
       "       'Credit amount', 'Duration', 'Purpose'],\n",
       "      dtype='object')"
      ]
     },
     "execution_count": 5,
     "metadata": {},
     "output_type": "execute_result"
    }
   ],
   "source": [
    "data.columns"
   ]
  },
  {
   "cell_type": "code",
   "execution_count": 6,
   "id": "ca5e8d5e",
   "metadata": {
    "scrolled": false
   },
   "outputs": [
    {
     "data": {
      "text/html": [
       "<div>\n",
       "<style scoped>\n",
       "    .dataframe tbody tr th:only-of-type {\n",
       "        vertical-align: middle;\n",
       "    }\n",
       "\n",
       "    .dataframe tbody tr th {\n",
       "        vertical-align: top;\n",
       "    }\n",
       "\n",
       "    .dataframe thead th {\n",
       "        text-align: right;\n",
       "    }\n",
       "</style>\n",
       "<table border=\"1\" class=\"dataframe\">\n",
       "  <thead>\n",
       "    <tr style=\"text-align: right;\">\n",
       "      <th></th>\n",
       "      <th>Age</th>\n",
       "      <th>Job</th>\n",
       "      <th>Credit amount</th>\n",
       "      <th>Duration</th>\n",
       "    </tr>\n",
       "  </thead>\n",
       "  <tbody>\n",
       "    <tr>\n",
       "      <th>count</th>\n",
       "      <td>1000.000000</td>\n",
       "      <td>1000.000000</td>\n",
       "      <td>1000.000000</td>\n",
       "      <td>1000.000000</td>\n",
       "    </tr>\n",
       "    <tr>\n",
       "      <th>mean</th>\n",
       "      <td>35.546000</td>\n",
       "      <td>1.904000</td>\n",
       "      <td>3271.258000</td>\n",
       "      <td>20.903000</td>\n",
       "    </tr>\n",
       "    <tr>\n",
       "      <th>std</th>\n",
       "      <td>11.375469</td>\n",
       "      <td>0.653614</td>\n",
       "      <td>2822.736876</td>\n",
       "      <td>12.058814</td>\n",
       "    </tr>\n",
       "    <tr>\n",
       "      <th>min</th>\n",
       "      <td>19.000000</td>\n",
       "      <td>0.000000</td>\n",
       "      <td>250.000000</td>\n",
       "      <td>4.000000</td>\n",
       "    </tr>\n",
       "    <tr>\n",
       "      <th>25%</th>\n",
       "      <td>27.000000</td>\n",
       "      <td>2.000000</td>\n",
       "      <td>1365.500000</td>\n",
       "      <td>12.000000</td>\n",
       "    </tr>\n",
       "    <tr>\n",
       "      <th>50%</th>\n",
       "      <td>33.000000</td>\n",
       "      <td>2.000000</td>\n",
       "      <td>2319.500000</td>\n",
       "      <td>18.000000</td>\n",
       "    </tr>\n",
       "    <tr>\n",
       "      <th>75%</th>\n",
       "      <td>42.000000</td>\n",
       "      <td>2.000000</td>\n",
       "      <td>3972.250000</td>\n",
       "      <td>24.000000</td>\n",
       "    </tr>\n",
       "    <tr>\n",
       "      <th>max</th>\n",
       "      <td>75.000000</td>\n",
       "      <td>3.000000</td>\n",
       "      <td>18424.000000</td>\n",
       "      <td>72.000000</td>\n",
       "    </tr>\n",
       "  </tbody>\n",
       "</table>\n",
       "</div>"
      ],
      "text/plain": [
       "               Age          Job  Credit amount     Duration\n",
       "count  1000.000000  1000.000000    1000.000000  1000.000000\n",
       "mean     35.546000     1.904000    3271.258000    20.903000\n",
       "std      11.375469     0.653614    2822.736876    12.058814\n",
       "min      19.000000     0.000000     250.000000     4.000000\n",
       "25%      27.000000     2.000000    1365.500000    12.000000\n",
       "50%      33.000000     2.000000    2319.500000    18.000000\n",
       "75%      42.000000     2.000000    3972.250000    24.000000\n",
       "max      75.000000     3.000000   18424.000000    72.000000"
      ]
     },
     "execution_count": 6,
     "metadata": {},
     "output_type": "execute_result"
    }
   ],
   "source": [
    "data.describe()"
   ]
  },
  {
   "cell_type": "code",
   "execution_count": 7,
   "id": "2e50f26d",
   "metadata": {},
   "outputs": [
    {
     "data": {
      "text/plain": [
       "(1000, 9)"
      ]
     },
     "execution_count": 7,
     "metadata": {},
     "output_type": "execute_result"
    }
   ],
   "source": [
    "data.shape"
   ]
  },
  {
   "cell_type": "code",
   "execution_count": 8,
   "id": "799f0587",
   "metadata": {},
   "outputs": [
    {
     "data": {
      "text/html": [
       "<div>\n",
       "<style scoped>\n",
       "    .dataframe tbody tr th:only-of-type {\n",
       "        vertical-align: middle;\n",
       "    }\n",
       "\n",
       "    .dataframe tbody tr th {\n",
       "        vertical-align: top;\n",
       "    }\n",
       "\n",
       "    .dataframe thead th {\n",
       "        text-align: right;\n",
       "    }\n",
       "</style>\n",
       "<table border=\"1\" class=\"dataframe\">\n",
       "  <thead>\n",
       "    <tr style=\"text-align: right;\">\n",
       "      <th></th>\n",
       "      <th>Age</th>\n",
       "      <th>Job</th>\n",
       "      <th>Credit amount</th>\n",
       "      <th>Duration</th>\n",
       "    </tr>\n",
       "  </thead>\n",
       "  <tbody>\n",
       "    <tr>\n",
       "      <th>Age</th>\n",
       "      <td>1.000000</td>\n",
       "      <td>0.015673</td>\n",
       "      <td>0.032716</td>\n",
       "      <td>-0.036136</td>\n",
       "    </tr>\n",
       "    <tr>\n",
       "      <th>Job</th>\n",
       "      <td>0.015673</td>\n",
       "      <td>1.000000</td>\n",
       "      <td>0.285385</td>\n",
       "      <td>0.210910</td>\n",
       "    </tr>\n",
       "    <tr>\n",
       "      <th>Credit amount</th>\n",
       "      <td>0.032716</td>\n",
       "      <td>0.285385</td>\n",
       "      <td>1.000000</td>\n",
       "      <td>0.624984</td>\n",
       "    </tr>\n",
       "    <tr>\n",
       "      <th>Duration</th>\n",
       "      <td>-0.036136</td>\n",
       "      <td>0.210910</td>\n",
       "      <td>0.624984</td>\n",
       "      <td>1.000000</td>\n",
       "    </tr>\n",
       "  </tbody>\n",
       "</table>\n",
       "</div>"
      ],
      "text/plain": [
       "                    Age       Job  Credit amount  Duration\n",
       "Age            1.000000  0.015673       0.032716 -0.036136\n",
       "Job            0.015673  1.000000       0.285385  0.210910\n",
       "Credit amount  0.032716  0.285385       1.000000  0.624984\n",
       "Duration      -0.036136  0.210910       0.624984  1.000000"
      ]
     },
     "execution_count": 8,
     "metadata": {},
     "output_type": "execute_result"
    }
   ],
   "source": [
    "data.corr()"
   ]
  },
  {
   "cell_type": "code",
   "execution_count": 9,
   "id": "4e3c5561",
   "metadata": {},
   "outputs": [],
   "source": [
    "import seaborn as sb"
   ]
  },
  {
   "cell_type": "code",
   "execution_count": 10,
   "id": "47f60002",
   "metadata": {},
   "outputs": [
    {
     "data": {
      "text/plain": [
       "<AxesSubplot:>"
      ]
     },
     "execution_count": 10,
     "metadata": {},
     "output_type": "execute_result"
    },
    {
     "data": {
      "image/png": "[encoded data removed]",
      "text/plain": [
       "<Figure size 432x288 with 2 Axes>"
      ]
     },
     "metadata": {
      "needs_background": "light"
     },
     "output_type": "display_data"
    }
   ],
   "source": [
    "dfl=data.corr()\n",
    "sb.heatmap(dfl,annot=True)"
   ]
  },
  {
   "cell_type": "code",
   "execution_count": 11,
   "id": "fcc38b97",
   "metadata": {},
   "outputs": [
    {
     "data": {
      "text/html": [
       "<div>\n",
       "<style scoped>\n",
       "    .dataframe tbody tr th:only-of-type {\n",
       "        vertical-align: middle;\n",
       "    }\n",
       "\n",
       "    .dataframe tbody tr th {\n",
       "        vertical-align: top;\n",
       "    }\n",
       "\n",
       "    .dataframe thead tr th {\n",
       "        text-align: left;\n",
       "    }\n",
       "\n",
       "    .dataframe thead tr:last-of-type th {\n",
       "        text-align: right;\n",
       "    }\n",
       "</style>\n",
       "<table border=\"1\" class=\"dataframe\">\n",
       "  <thead>\n",
       "    <tr>\n",
       "      <th>Housing</th>\n",
       "      <th colspan=\"4\" halign=\"left\">free</th>\n",
       "      <th colspan=\"4\" halign=\"left\">own</th>\n",
       "      <th colspan=\"4\" halign=\"left\">rent</th>\n",
       "      <th>All</th>\n",
       "    </tr>\n",
       "    <tr>\n",
       "      <th>Job</th>\n",
       "      <th>0</th>\n",
       "      <th>1</th>\n",
       "      <th>2</th>\n",
       "      <th>3</th>\n",
       "      <th>0</th>\n",
       "      <th>1</th>\n",
       "      <th>2</th>\n",
       "      <th>3</th>\n",
       "      <th>0</th>\n",
       "      <th>1</th>\n",
       "      <th>2</th>\n",
       "      <th>3</th>\n",
       "      <th></th>\n",
       "    </tr>\n",
       "    <tr>\n",
       "      <th>Sex</th>\n",
       "      <th></th>\n",
       "      <th></th>\n",
       "      <th></th>\n",
       "      <th></th>\n",
       "      <th></th>\n",
       "      <th></th>\n",
       "      <th></th>\n",
       "      <th></th>\n",
       "      <th></th>\n",
       "      <th></th>\n",
       "      <th></th>\n",
       "      <th></th>\n",
       "      <th></th>\n",
       "    </tr>\n",
       "  </thead>\n",
       "  <tbody>\n",
       "    <tr>\n",
       "      <th>female</th>\n",
       "      <td>1</td>\n",
       "      <td>4</td>\n",
       "      <td>6</td>\n",
       "      <td>8</td>\n",
       "      <td>6</td>\n",
       "      <td>42</td>\n",
       "      <td>127</td>\n",
       "      <td>21</td>\n",
       "      <td>5</td>\n",
       "      <td>18</td>\n",
       "      <td>64</td>\n",
       "      <td>8</td>\n",
       "      <td>310</td>\n",
       "    </tr>\n",
       "    <tr>\n",
       "      <th>male</th>\n",
       "      <td>3</td>\n",
       "      <td>4</td>\n",
       "      <td>57</td>\n",
       "      <td>25</td>\n",
       "      <td>7</td>\n",
       "      <td>112</td>\n",
       "      <td>325</td>\n",
       "      <td>73</td>\n",
       "      <td>0</td>\n",
       "      <td>20</td>\n",
       "      <td>51</td>\n",
       "      <td>13</td>\n",
       "      <td>690</td>\n",
       "    </tr>\n",
       "    <tr>\n",
       "      <th>All</th>\n",
       "      <td>4</td>\n",
       "      <td>8</td>\n",
       "      <td>63</td>\n",
       "      <td>33</td>\n",
       "      <td>13</td>\n",
       "      <td>154</td>\n",
       "      <td>452</td>\n",
       "      <td>94</td>\n",
       "      <td>5</td>\n",
       "      <td>38</td>\n",
       "      <td>115</td>\n",
       "      <td>21</td>\n",
       "      <td>1000</td>\n",
       "    </tr>\n",
       "  </tbody>\n",
       "</table>\n",
       "</div>"
      ],
      "text/plain": [
       "Housing free            own               rent                All\n",
       "Job        0  1   2   3   0    1    2   3    0   1    2   3      \n",
       "Sex                                                              \n",
       "female     1  4   6   8   6   42  127  21    5  18   64   8   310\n",
       "male       3  4  57  25   7  112  325  73    0  20   51  13   690\n",
       "All        4  8  63  33  13  154  452  94    5  38  115  21  1000"
      ]
     },
     "execution_count": 11,
     "metadata": {},
     "output_type": "execute_result"
    }
   ],
   "source": [
    "pd.crosstab(data.Sex,[data.Housing,data.Job],margins=True)"
   ]
  },
  {
   "cell_type": "code",
   "execution_count": 12,
   "id": "41324234",
   "metadata": {},
   "outputs": [
    {
     "data": {
      "text/html": [
       "<div>\n",
       "<style scoped>\n",
       "    .dataframe tbody tr th:only-of-type {\n",
       "        vertical-align: middle;\n",
       "    }\n",
       "\n",
       "    .dataframe tbody tr th {\n",
       "        vertical-align: top;\n",
       "    }\n",
       "\n",
       "    .dataframe thead th {\n",
       "        text-align: right;\n",
       "    }\n",
       "</style>\n",
       "<table border=\"1\" class=\"dataframe\">\n",
       "  <thead>\n",
       "    <tr style=\"text-align: right;\">\n",
       "      <th>Housing</th>\n",
       "      <th>free</th>\n",
       "      <th>own</th>\n",
       "      <th>rent</th>\n",
       "      <th>All</th>\n",
       "    </tr>\n",
       "    <tr>\n",
       "      <th>Sex</th>\n",
       "      <th></th>\n",
       "      <th></th>\n",
       "      <th></th>\n",
       "      <th></th>\n",
       "    </tr>\n",
       "  </thead>\n",
       "  <tbody>\n",
       "    <tr>\n",
       "      <th>female</th>\n",
       "      <td>19</td>\n",
       "      <td>196</td>\n",
       "      <td>95</td>\n",
       "      <td>310</td>\n",
       "    </tr>\n",
       "    <tr>\n",
       "      <th>male</th>\n",
       "      <td>89</td>\n",
       "      <td>517</td>\n",
       "      <td>84</td>\n",
       "      <td>690</td>\n",
       "    </tr>\n",
       "    <tr>\n",
       "      <th>All</th>\n",
       "      <td>108</td>\n",
       "      <td>713</td>\n",
       "      <td>179</td>\n",
       "      <td>1000</td>\n",
       "    </tr>\n",
       "  </tbody>\n",
       "</table>\n",
       "</div>"
      ],
      "text/plain": [
       "Housing  free  own  rent   All\n",
       "Sex                           \n",
       "female     19  196    95   310\n",
       "male       89  517    84   690\n",
       "All       108  713   179  1000"
      ]
     },
     "execution_count": 12,
     "metadata": {},
     "output_type": "execute_result"
    }
   ],
   "source": [
    "pd.crosstab(data.Sex,data.Housing,margins=True)"
   ]
  },
  {
   "cell_type": "code",
   "execution_count": 13,
   "id": "b4065cce",
   "metadata": {},
   "outputs": [
    {
     "data": {
      "text/plain": [
       "<AxesSubplot:xlabel='Age', ylabel='Count'>"
      ]
     },
     "execution_count": 13,
     "metadata": {},
     "output_type": "execute_result"
    },
    {
     "data": {
      "image/png": "[encoded data removed]",
      "text/plain": [
       "<Figure size 432x288 with 1 Axes>"
      ]
     },
     "metadata": {
      "needs_background": "light"
     },
     "output_type": "display_data"
    }
   ],
   "source": [
    "import seaborn as sb\n",
    "sb.histplot(data['Age'])"
   ]
  },
  {
   "cell_type": "code",
   "execution_count": 14,
   "id": "a126b655",
   "metadata": {},
   "outputs": [
    {
     "name": "stdout",
     "output_type": "stream",
     "text": [
      "<class 'pandas.core.frame.DataFrame'>\n",
      "RangeIndex: 1000 entries, 0 to 999\n",
      "Data columns (total 9 columns):\n",
      " #   Column            Non-Null Count  Dtype \n",
      "---  ------            --------------  ----- \n",
      " 0   Age               1000 non-null   int64 \n",
      " 1   Sex               1000 non-null   object\n",
      " 2   Job               1000 non-null   int64 \n",
      " 3   Housing           1000 non-null   object\n",
      " 4   Saving accounts   817 non-null    object\n",
      " 5   Checking account  606 non-null    object\n",
      " 6   Credit amount     1000 non-null   int64 \n",
      " 7   Duration          1000 non-null   int64 \n",
      " 8   Purpose           1000 non-null   object\n",
      "dtypes: int64(4), object(5)\n",
      "memory usage: 70.4+ KB\n"
     ]
    }
   ],
   "source": [
    "data.info()"
   ]
  },
  {
   "cell_type": "code",
   "execution_count": 15,
   "id": "73a16c65",
   "metadata": {},
   "outputs": [
    {
     "data": {
      "text/plain": [
       "Age                  53\n",
       "Sex                   2\n",
       "Job                   4\n",
       "Housing               3\n",
       "Saving accounts       4\n",
       "Checking account      3\n",
       "Credit amount       921\n",
       "Duration             33\n",
       "Purpose               8\n",
       "dtype: int64"
      ]
     },
     "execution_count": 15,
     "metadata": {},
     "output_type": "execute_result"
    }
   ],
   "source": [
    "data.nunique()"
   ]
  },
  {
   "cell_type": "code",
   "execution_count": 16,
   "id": "08c9a947",
   "metadata": {},
   "outputs": [
    {
     "data": {
      "text/plain": [
       "<AxesSubplot:xlabel='Sex', ylabel='Count'>"
      ]
     },
     "execution_count": 16,
     "metadata": {},
     "output_type": "execute_result"
    },
    {
     "data": {
      "image/png": "[encoded data removed]",
      "text/plain": [
       "<Figure size 432x288 with 1 Axes>"
      ]
     },
     "metadata": {
      "needs_background": "light"
     },
     "output_type": "display_data"
    }
   ],
   "source": [
    "sb.histplot(data['Sex'])"
   ]
  },
  {
   "cell_type": "code",
   "execution_count": 17,
   "id": "7b7daefd",
   "metadata": {},
   "outputs": [
    {
     "name": "stderr",
     "output_type": "stream",
     "text": [
      "C:\\Users\\SANDIPAN\\anaconda3\\lib\\site-packages\\seaborn\\_decorators.py:36: FutureWarning: Pass the following variable as a keyword arg: x. From version 0.12, the only valid positional argument will be `data`, and passing other arguments without an explicit keyword will result in an error or misinterpretation.\n",
      "  warnings.warn(\n"
     ]
    },
    {
     "data": {
      "text/plain": [
       "<AxesSubplot:xlabel='Age'>"
      ]
     },
     "execution_count": 17,
     "metadata": {},
     "output_type": "execute_result"
    },
    {
     "data": {
      "image/png": "[encoded data removed]",
      "text/plain": [
       "<Figure size 432x288 with 1 Axes>"
      ]
     },
     "metadata": {
      "needs_background": "light"
     },
     "output_type": "display_data"
    }
   ],
   "source": [
    "sb.boxplot(data['Age'])"
   ]
  },
  {
   "cell_type": "code",
   "execution_count": 18,
   "id": "81d1325f",
   "metadata": {},
   "outputs": [
    {
     "name": "stderr",
     "output_type": "stream",
     "text": [
      "C:\\Users\\SANDIPAN\\anaconda3\\lib\\site-packages\\seaborn\\_decorators.py:36: FutureWarning: Pass the following variable as a keyword arg: x. From version 0.12, the only valid positional argument will be `data`, and passing other arguments without an explicit keyword will result in an error or misinterpretation.\n",
      "  warnings.warn(\n"
     ]
    },
    {
     "data": {
      "text/plain": [
       "<AxesSubplot:xlabel='Credit amount'>"
      ]
     },
     "execution_count": 18,
     "metadata": {},
     "output_type": "execute_result"
    },
    {
     "data": {
      "image/png": "[encoded data removed]",
      "text/plain": [
       "<Figure size 432x288 with 1 Axes>"
      ]
     },
     "metadata": {
      "needs_background": "light"
     },
     "output_type": "display_data"
    }
   ],
   "source": [
    "sb.boxplot(data['Credit amount'])"
   ]
  },
  {
   "cell_type": "code",
   "execution_count": 19,
   "id": "a45438f4",
   "metadata": {},
   "outputs": [
    {
     "name": "stdout",
     "output_type": "stream",
     "text": [
      "Housing  free  own  rent\n",
      "Sex                     \n",
      "female     19  196    95\n",
      "male       89  517    84\n"
     ]
    }
   ],
   "source": [
    "dataset_table=pd.crosstab(data.Sex,data.Housing)\n",
    "print(dataset_table)"
   ]
  },
  {
   "cell_type": "code",
   "execution_count": 20,
   "id": "daca5258",
   "metadata": {},
   "outputs": [
    {
     "data": {
      "text/plain": [
       "<AxesSubplot:xlabel='Sex', ylabel='Age'>"
      ]
     },
     "execution_count": 20,
     "metadata": {},
     "output_type": "execute_result"
    },
    {
     "data": {
      "image/png": "[encoded data removed]",
      "text/plain": [
       "<Figure size 432x288 with 1 Axes>"
      ]
     },
     "metadata": {
      "needs_background": "light"
     },
     "output_type": "display_data"
    }
   ],
   "source": [
    "sb.boxplot(x='Sex', y='Age', data=data)"
   ]
  },
  {
   "cell_type": "code",
   "execution_count": 21,
   "id": "0f5a7f65",
   "metadata": {},
   "outputs": [
    {
     "data": {
      "text/plain": [
       "<AxesSubplot:xlabel='Housing', ylabel='Age'>"
      ]
     },
     "execution_count": 21,
     "metadata": {},
     "output_type": "execute_result"
    },
    {
     "data": {
      "image/png": "[encoded data removed]",
      "text/plain": [
       "<Figure size 432x288 with 1 Axes>"
      ]
     },
     "metadata": {
      "needs_background": "light"
     },
     "output_type": "display_data"
    }
   ],
   "source": [
    "sb.boxplot(x='Housing', y='Age', data=data)"
   ]
  },
  {
   "cell_type": "code",
   "execution_count": 22,
   "id": "e46d9a8c",
   "metadata": {},
   "outputs": [
    {
     "data": {
      "text/plain": [
       "array([[ 19, 196,  95],\n",
       "       [ 89, 517,  84]], dtype=int64)"
      ]
     },
     "execution_count": 22,
     "metadata": {},
     "output_type": "execute_result"
    }
   ],
   "source": [
    "#observed value calculation\n",
    "\n",
    "dataset_table.values\n",
    "observed_values=dataset_table.values\n",
    "observed_values\n"
   ]
  },
  {
   "cell_type": "code",
   "execution_count": 23,
   "id": "4c4e4a2a",
   "metadata": {},
   "outputs": [],
   "source": [
    "import scipy.stats as stats"
   ]
  },
  {
   "cell_type": "code",
   "execution_count": 24,
   "id": "b5d6e143",
   "metadata": {},
   "outputs": [],
   "source": [
    "val=stats.chi2_contingency(dataset_table)"
   ]
  },
  {
   "cell_type": "code",
   "execution_count": 25,
   "id": "ff9fa96b",
   "metadata": {},
   "outputs": [
    {
     "data": {
      "text/plain": [
       "(53.95497847218782,\n",
       " 1.922318250514252e-12,\n",
       " 2,\n",
       " array([[ 33.48, 221.03,  55.49],\n",
       "        [ 74.52, 491.97, 123.51]]))"
      ]
     },
     "execution_count": 25,
     "metadata": {},
     "output_type": "execute_result"
    }
   ],
   "source": [
    "val"
   ]
  },
  {
   "cell_type": "code",
   "execution_count": 26,
   "id": "6d76e5cd",
   "metadata": {},
   "outputs": [
    {
     "data": {
      "text/plain": [
       "tuple"
      ]
     },
     "execution_count": 26,
     "metadata": {},
     "output_type": "execute_result"
    }
   ],
   "source": [
    "type(val)"
   ]
  },
  {
   "cell_type": "code",
   "execution_count": 27,
   "id": "12cd2ede",
   "metadata": {},
   "outputs": [
    {
     "data": {
      "text/plain": [
       "array([[ 33.48, 221.03,  55.49],\n",
       "       [ 74.52, 491.97, 123.51]])"
      ]
     },
     "execution_count": 27,
     "metadata": {},
     "output_type": "execute_result"
    }
   ],
   "source": [
    "#expected value calculation\n",
    "\n",
    "expected_values=val[3]\n",
    "expected_values\n"
   ]
  },
  {
   "cell_type": "code",
   "execution_count": 28,
   "id": "46a75f00",
   "metadata": {},
   "outputs": [
    {
     "name": "stdout",
     "output_type": "stream",
     "text": [
      "Degrees of freedom=  2\n"
     ]
    }
   ],
   "source": [
    "no_of_rows=len(dataset_table.iloc[0:2,0])\n",
    "no_of_columns=len(dataset_table.iloc[0,0:3])\n",
    "dof=(no_of_rows-1)*(no_of_columns-1)\n",
    "print(\"Degrees of freedom= \",dof)"
   ]
  },
  {
   "cell_type": "code",
   "execution_count": 29,
   "id": "f7d3007b",
   "metadata": {},
   "outputs": [
    {
     "data": {
      "text/plain": [
       "0.05"
      ]
     },
     "execution_count": 29,
     "metadata": {},
     "output_type": "execute_result"
    }
   ],
   "source": [
    "#Significance level\n",
    "\n",
    "alpha=0.05\n",
    "alpha"
   ]
  },
  {
   "cell_type": "code",
   "execution_count": 30,
   "id": "25b8b581",
   "metadata": {},
   "outputs": [
    {
     "name": "stdout",
     "output_type": "stream",
     "text": [
      "[ 9.0761692   4.1079144  40.77089487]\n"
     ]
    }
   ],
   "source": [
    "chi_square=sum([(o-e)**2/e for o,e in zip(observed_values,expected_values)])\n",
    "print(chi_square)"
   ]
  },
  {
   "cell_type": "code",
   "execution_count": 31,
   "id": "3d4b99ea",
   "metadata": {},
   "outputs": [],
   "source": [
    "# cs= str(chi_square)\n",
    "# for i in range(len(cs)):\n",
    "#     print(i)\n",
    "#     for j in cs:\n",
    "#         print(j)\n",
    "#         print(j[i], end = ' ')\n",
    "# print()"
   ]
  },
  {
   "cell_type": "code",
   "execution_count": 32,
   "id": "8029a6f0",
   "metadata": {},
   "outputs": [
    {
     "data": {
      "text/plain": [
       "0.95"
      ]
     },
     "execution_count": 32,
     "metadata": {},
     "output_type": "execute_result"
    }
   ],
   "source": [
    "q=1-alpha\n",
    "q"
   ]
  },
  {
   "cell_type": "code",
   "execution_count": 33,
   "id": "773f44c1",
   "metadata": {},
   "outputs": [
    {
     "name": "stdout",
     "output_type": "stream",
     "text": [
      "53.95497847218782\n"
     ]
    }
   ],
   "source": [
    "chi_square_summation=chi_square[0]+chi_square[1]+chi_square[2]\n",
    "print(chi_square_summation)"
   ]
  },
  {
   "cell_type": "code",
   "execution_count": 34,
   "id": "9b1547a5",
   "metadata": {},
   "outputs": [
    {
     "name": "stdout",
     "output_type": "stream",
     "text": [
      "Critical Value=  5.991464547107979\n"
     ]
    }
   ],
   "source": [
    "#crtical value calculation\n",
    "\n",
    "from scipy.stats import chi2\n",
    "\n",
    "critical_value=chi2.ppf(q,dof)\n",
    "print(\"Critical Value= \",critical_value)"
   ]
  },
  {
   "cell_type": "code",
   "execution_count": 35,
   "id": "7dadc703",
   "metadata": {},
   "outputs": [
    {
     "name": "stdout",
     "output_type": "stream",
     "text": [
      "P-value=  1.9223511671384585e-12\n"
     ]
    }
   ],
   "source": [
    "#p value calculation\n",
    "\n",
    "p=1-chi2.cdf(chi_square_summation,dof)\n",
    "print(\"P-value= \",p)"
   ]
  },
  {
   "cell_type": "code",
   "execution_count": 36,
   "id": "81ac9a05",
   "metadata": {},
   "outputs": [
    {
     "name": "stdout",
     "output_type": "stream",
     "text": [
      "Significance level=  0.05\n",
      "Degrees of freedom=  2\n",
      "Critical Value=  5.991464547107979\n",
      "P-value=  1.9223511671384585e-12\n"
     ]
    }
   ],
   "source": [
    "print(\"Significance level= \",alpha)\n",
    "print(\"Degrees of freedom= \",dof)\n",
    "print(\"Critical Value= \",critical_value)\n",
    "print(\"P-value= \",p)"
   ]
  },
  {
   "cell_type": "code",
   "execution_count": 37,
   "id": "84290abd",
   "metadata": {},
   "outputs": [
    {
     "name": "stdout",
     "output_type": "stream",
     "text": [
      "Reject H0, there is a relationship between the categorical values Housing and Sex\n",
      "Reject H0, there is a relationship between the categorical values Housing and Sex\n"
     ]
    }
   ],
   "source": [
    "if chi_square_summation>=critical_value:\n",
    "    print(\"Reject H0, there is a relationship between the categorical values Housing and Sex\")\n",
    "else:\n",
    "    print(\"Retain H0, there is no relationship between the categorical values Housing and Sex\")\n",
    "\n",
    "if p<=alpha:\n",
    "    print(\"Reject H0, there is a relationship between the categorical values Housing and Sex\")\n",
    "else:\n",
    "    print(\"Retain H0, there is no relationship between the categorical values Housing and Sex\")"
   ]
  },
  {
   "cell_type": "code",
   "execution_count": 38,
   "id": "9aec7e26",
   "metadata": {},
   "outputs": [
    {
     "data": {
      "text/plain": [
       "Index(['free', 'own', 'rent'], dtype='object', name='Housing')"
      ]
     },
     "execution_count": 38,
     "metadata": {},
     "output_type": "execute_result"
    }
   ],
   "source": [
    "dataset_table.columns"
   ]
  },
  {
   "cell_type": "code",
   "execution_count": null,
   "id": "cdebee2d",
   "metadata": {},
   "outputs": [],
   "source": []
  },
  {
   "cell_type": "code",
   "execution_count": 39,
   "id": "e991de87",
   "metadata": {},
   "outputs": [],
   "source": [
    "import matplotlib.pyplot as plt\n",
    "from pylab import rcParams\n",
    "\n",
    "from scipy.stats import spearmanr"
   ]
  },
  {
   "cell_type": "code",
   "execution_count": 40,
   "id": "832d7b47",
   "metadata": {},
   "outputs": [],
   "source": [
    "rcParams['figure.figsize'] = 14,7\n",
    "plt.style.use('seaborn-whitegrid')"
   ]
  },
  {
   "cell_type": "code",
   "execution_count": 41,
   "id": "d4eee15a",
   "metadata": {},
   "outputs": [
    {
     "data": {
      "text/plain": [
       "<seaborn.axisgrid.PairGrid at 0x27bf6339c40>"
      ]
     },
     "execution_count": 41,
     "metadata": {},
     "output_type": "execute_result"
    },
    {
     "data": {
      "image/png": "[encoded data removed]",
      "text/plain": [
       "<Figure size 540x540 with 12 Axes>"
      ]
     },
     "metadata": {},
     "output_type": "display_data"
    }
   ],
   "source": [
    "sb.pairplot(dataset_table)"
   ]
  },
  {
   "cell_type": "code",
   "execution_count": 56,
   "id": "3d74a205",
   "metadata": {},
   "outputs": [
    {
     "name": "stdout",
     "output_type": "stream",
     "text": [
      "Spearman Rank Correlation Coeffecient -1.000\n",
      "They have negative relationship\n"
     ]
    }
   ],
   "source": [
    "free=dataset_table['free']\n",
    "own=dataset_table['own']\n",
    "rent=dataset_table['rent']\n",
    "\n",
    "spearmanr_coefficient,p_value = spearmanr(rent, free)\n",
    "print('Spearman Rank Correlation Coeffecient %0.3f' % (spearmanr_coefficient))\n",
    "\n",
    "if spearmanr_coefficient>0:\n",
    "    print(\"They have positive relationship\")\n",
    "else:\n",
    "    print(\"They have negative relationship\")"
   ]
  },
  {
   "cell_type": "code",
   "execution_count": 57,
   "id": "956b9639",
   "metadata": {},
   "outputs": [
    {
     "name": "stdout",
     "output_type": "stream",
     "text": [
      "Spearman Rank Correlation Coeffecient -0.222\n",
      "They have negative relationship\n"
     ]
    }
   ],
   "source": [
    "spearmanr_coefficient,p_value = spearmanr(data['Sex'], data['Housing'])\n",
    "print('Spearman Rank Correlation Coeffecient %0.3f' % (spearmanr_coefficient))\n",
    "\n",
    "if spearmanr_coefficient>0:\n",
    "    print(\"They have positive relationship\")\n",
    "else:\n",
    "    print(\"They have negative relationship\")"
   ]
  },
  {
   "cell_type": "code",
   "execution_count": 52,
   "id": "5788e421",
   "metadata": {},
   "outputs": [
    {
     "name": "stdout",
     "output_type": "stream",
     "text": [
      "Spearman Rank Correlation Coeffecient -0.055\n",
      "They have negative relationship\n"
     ]
    }
   ],
   "source": [
    "spearmanr_coefficient,p_value = spearmanr(data['Sex'], data['Purpose'])\n",
    "print('Spearman Rank Correlation Coeffecient %0.3f' % (spearmanr_coefficient))\n",
    "\n",
    "if spearmanr_coefficient>0:\n",
    "    print(\"They have positive relationship\")\n",
    "else:\n",
    "    print(\"They have negative relationship\")"
   ]
  },
  {
   "cell_type": "code",
   "execution_count": 53,
   "id": "8f8be49b",
   "metadata": {},
   "outputs": [
    {
     "name": "stdout",
     "output_type": "stream",
     "text": [
      "Spearman Rank Correlation Coeffecient 0.009\n",
      "They have positive relationship\n"
     ]
    }
   ],
   "source": [
    "spearmanr_coefficient,p_value = spearmanr(data['Purpose'], data['Housing'])\n",
    "print('Spearman Rank Correlation Coeffecient %0.3f' % (spearmanr_coefficient))\n",
    "\n",
    "if spearmanr_coefficient>0:\n",
    "    print(\"They have positive relationship\")\n",
    "else:\n",
    "    print(\"They have negative relationship\")"
   ]
  },
  {
   "cell_type": "code",
   "execution_count": 54,
   "id": "93b667d7",
   "metadata": {},
   "outputs": [
    {
     "name": "stdout",
     "output_type": "stream",
     "text": [
      "Spearman Rank Correlation Coeffecient -0.329\n",
      "They have negative relationship\n"
     ]
    }
   ],
   "source": [
    "spearmanr_coefficient,p_value = spearmanr(data['Age'], data['Housing'])\n",
    "print('Spearman Rank Correlation Coeffecient %0.3f' % (spearmanr_coefficient))\n",
    "\n",
    "if spearmanr_coefficient>0:\n",
    "    print(\"They have positive relationship\")\n",
    "else:\n",
    "    print(\"They have negative relationship\")"
   ]
  },
  {
   "cell_type": "code",
   "execution_count": 55,
   "id": "a67acf15",
   "metadata": {},
   "outputs": [
    {
     "name": "stdout",
     "output_type": "stream",
     "text": [
      "Spearman Rank Correlation Coeffecient -0.077\n",
      "They have negative relationship\n"
     ]
    }
   ],
   "source": [
    "spearmanr_coefficient,p_value = spearmanr(data['Age'], data['Purpose'])\n",
    "print('Spearman Rank Correlation Coeffecient %0.3f' % (spearmanr_coefficient))\n",
    "\n",
    "if spearmanr_coefficient>0:\n",
    "    print(\"They have positive relationship\")\n",
    "else:\n",
    "    print(\"They have negative relationship\")"
   ]
  },
  {
   "cell_type": "code",
   "execution_count": null,
   "id": "1cbc22e8",
   "metadata": {},
   "outputs": [],
   "source": []
  }
 ],
 "metadata": {
  "kernelspec": {
   "display_name": "Python 3 (ipykernel)",
   "language": "python",
   "name": "python3"
  },
  "language_info": {
   "codemirror_mode": {
    "name": "ipython",
    "version": 3
   },
   "file_extension": ".py",
   "mimetype": "text/x-python",
   "name": "python",
   "nbconvert_exporter": "python",
   "pygments_lexer": "ipython3",
   "version": "3.9.7"
  }
 },
 "nbformat": 4,
 "nbformat_minor": 5
}
